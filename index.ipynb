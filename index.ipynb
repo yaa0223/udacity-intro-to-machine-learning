{
 "cells": [
  {
   "cell_type": "markdown",
   "metadata": {},
   "source": [
    "# Enron Fraud Detection\n",
    "\n",
    "This is the final project of udacity class \"[Intro to Machine Learning](https://classroom.udacity.com/courses/ud120)\". The goal is building an algorithm to identify Enron employees who may have committed fraud based on the public Enron financial and email dataset.\n",
    "\n",
    "This notebook relies on code provided by the class, which is available [here](https://github.com/udacity/ud120-projects). Put this notebook in the final_project folder and it should work."
   ]
  },
  {
   "cell_type": "code",
   "execution_count": 1,
   "metadata": {
    "collapsed": true
   },
   "outputs": [],
   "source": [
    "import pickle\n",
    "import sys\n",
    "sys.path.append(\"../tools/\")\n",
    "\n",
    "### Load the dictionary containing the dataset\n",
    "with open(\"final_project_dataset.pkl\", \"r\") as data_file:\n",
    "    data_dict = pickle.load(data_file)\n",
    "    \n",
    "### Also convert to dataframe for easy manipulation.\n",
    "import pandas as pd\n",
    "import numpy as np\n",
    "df = pd.DataFrame.from_dict(data_dict, orient='index')\n",
    "for column in df.columns:\n",
    "    if column == 'email_address':\n",
    "        continue\n",
    "    # Convert NaN to 0.\n",
    "    df[column] = df[column].apply(lambda x: 0 if x == 'NaN' else float(x))"
   ]
  },
  {
   "cell_type": "markdown",
   "metadata": {},
   "source": [
    "## Task 1: Select what features you'll use\n",
    "\n",
    "I choose to select all the features available at this step."
   ]
  },
  {
   "cell_type": "code",
   "execution_count": 185,
   "metadata": {
    "collapsed": true
   },
   "outputs": [],
   "source": [
    "### Task 1: Select what features you'll use.\n",
    "### features_list is a list of strings, each of which is a feature name.\n",
    "### The first feature must be \"poi\".\n",
    "features_list = ['poi',\n",
    "                 'salary', 'deferral_payments', 'total_payments',\n",
    "                 'exercised_stock_options', 'bonus', 'restricted_stock',\n",
    "                 'total_stock_value', 'expenses', 'loan_advances',\n",
    "                 'director_fees', 'deferred_income', 'long_term_incentive',\n",
    "                 'to_messages', 'shared_receipt_with_poi', 'from_messages',\n",
    "                 'from_this_person_to_poi', 'from_poi_to_this_person']"
   ]
  },
  {
   "cell_type": "markdown",
   "metadata": {},
   "source": [
    "## Task 2: Remove outliers\n",
    "\n",
    "Use histogram to identify outliers. Start with salary."
   ]
  },
  {
   "cell_type": "code",
   "execution_count": 294,
   "metadata": {
    "collapsed": false,
    "scrolled": true
   },
   "outputs": [
    {
     "data": {
      "text/plain": [
       "<matplotlib.axes._subplots.AxesSubplot at 0x11c08c6d0>"
      ]
     },
     "execution_count": 294,
     "metadata": {},
     "output_type": "execute_result"
    },
    {
     "data": {
      "image/png": "[encoded data removed]",
      "text/plain": [
       "<matplotlib.figure.Figure at 0x1190fc850>"
      ]
     },
     "metadata": {},
     "output_type": "display_data"
    }
   ],
   "source": [
    "import matplotlib\n",
    "matplotlib.style.use('ggplot')\n",
    "\n",
    "%matplotlib inline\n",
    "\n",
    "df['salary'].plot.hist(by='salary')"
   ]
  },
  {
   "cell_type": "markdown",
   "metadata": {},
   "source": [
    "There seems to be an outlier, A 25 million salary seems really high. Let's find it."
   ]
  },
  {
   "cell_type": "code",
   "execution_count": 262,
   "metadata": {
    "collapsed": false
   },
   "outputs": [
    {
     "data": {
      "text/plain": [
       "'TOTAL'"
      ]
     },
     "execution_count": 262,
     "metadata": {},
     "output_type": "execute_result"
    }
   ],
   "source": [
    "df['salary'].idxmax()"
   ]
  },
  {
   "cell_type": "code",
   "execution_count": 263,
   "metadata": {
    "collapsed": false
   },
   "outputs": [
    {
     "data": {
      "text/plain": [
       "<matplotlib.axes._subplots.AxesSubplot at 0x11ca068d0>"
      ]
     },
     "execution_count": 263,
     "metadata": {},
     "output_type": "execute_result"
    },
    {
     "data": {
      "image/png": "[encoded data removed]",
      "text/plain": [
       "<matplotlib.figure.Figure at 0x120a77b50>"
      ]
     },
     "metadata": {},
     "output_type": "display_data"
    }
   ],
   "source": [
    "# Drop 'TOTAL' and replot.\n",
    "df=df.drop('TOTAL')\n",
    "df['salary'].plot.hist()"
   ]
  },
  {
   "cell_type": "code",
   "execution_count": 264,
   "metadata": {
    "collapsed": false
   },
   "outputs": [
    {
     "data": {
      "text/html": [
       "<div>\n",
       "<table border=\"1\" class=\"dataframe\">\n",
       "  <thead>\n",
       "    <tr style=\"text-align: right;\">\n",
       "      <th></th>\n",
       "      <th>salary</th>\n",
       "      <th>to_messages</th>\n",
       "      <th>deferral_payments</th>\n",
       "      <th>total_payments</th>\n",
       "      <th>exercised_stock_options</th>\n",
       "      <th>bonus</th>\n",
       "      <th>restricted_stock</th>\n",
       "      <th>shared_receipt_with_poi</th>\n",
       "      <th>restricted_stock_deferred</th>\n",
       "      <th>total_stock_value</th>\n",
       "      <th>...</th>\n",
       "      <th>loan_advances</th>\n",
       "      <th>from_messages</th>\n",
       "      <th>other</th>\n",
       "      <th>from_this_person_to_poi</th>\n",
       "      <th>poi</th>\n",
       "      <th>director_fees</th>\n",
       "      <th>deferred_income</th>\n",
       "      <th>long_term_incentive</th>\n",
       "      <th>email_address</th>\n",
       "      <th>from_poi_to_this_person</th>\n",
       "    </tr>\n",
       "  </thead>\n",
       "  <tbody>\n",
       "    <tr>\n",
       "      <th>FREVERT MARK A</th>\n",
       "      <td>1060932.0</td>\n",
       "      <td>3275.0</td>\n",
       "      <td>6426990.0</td>\n",
       "      <td>17252530.0</td>\n",
       "      <td>10433518.0</td>\n",
       "      <td>2000000.0</td>\n",
       "      <td>4188667.0</td>\n",
       "      <td>2979.0</td>\n",
       "      <td>NaN</td>\n",
       "      <td>14622185.0</td>\n",
       "      <td>...</td>\n",
       "      <td>2000000.0</td>\n",
       "      <td>21.0</td>\n",
       "      <td>7427621.0</td>\n",
       "      <td>6.0</td>\n",
       "      <td>0.0</td>\n",
       "      <td>NaN</td>\n",
       "      <td>-3367011.0</td>\n",
       "      <td>1617011.0</td>\n",
       "      <td>mark.frevert@enron.com</td>\n",
       "      <td>242.0</td>\n",
       "    </tr>\n",
       "    <tr>\n",
       "      <th>LAY KENNETH L</th>\n",
       "      <td>1072321.0</td>\n",
       "      <td>4273.0</td>\n",
       "      <td>202911.0</td>\n",
       "      <td>103559793.0</td>\n",
       "      <td>34348384.0</td>\n",
       "      <td>7000000.0</td>\n",
       "      <td>14761694.0</td>\n",
       "      <td>2411.0</td>\n",
       "      <td>NaN</td>\n",
       "      <td>49110078.0</td>\n",
       "      <td>...</td>\n",
       "      <td>81525000.0</td>\n",
       "      <td>36.0</td>\n",
       "      <td>10359729.0</td>\n",
       "      <td>16.0</td>\n",
       "      <td>1.0</td>\n",
       "      <td>NaN</td>\n",
       "      <td>-300000.0</td>\n",
       "      <td>3600000.0</td>\n",
       "      <td>kenneth.lay@enron.com</td>\n",
       "      <td>123.0</td>\n",
       "    </tr>\n",
       "    <tr>\n",
       "      <th>SKILLING JEFFREY K</th>\n",
       "      <td>1111258.0</td>\n",
       "      <td>3627.0</td>\n",
       "      <td>NaN</td>\n",
       "      <td>8682716.0</td>\n",
       "      <td>19250000.0</td>\n",
       "      <td>5600000.0</td>\n",
       "      <td>6843672.0</td>\n",
       "      <td>2042.0</td>\n",
       "      <td>NaN</td>\n",
       "      <td>26093672.0</td>\n",
       "      <td>...</td>\n",
       "      <td>NaN</td>\n",
       "      <td>108.0</td>\n",
       "      <td>22122.0</td>\n",
       "      <td>30.0</td>\n",
       "      <td>1.0</td>\n",
       "      <td>NaN</td>\n",
       "      <td>NaN</td>\n",
       "      <td>1920000.0</td>\n",
       "      <td>jeff.skilling@enron.com</td>\n",
       "      <td>88.0</td>\n",
       "    </tr>\n",
       "  </tbody>\n",
       "</table>\n",
       "<p>3 rows × 21 columns</p>\n",
       "</div>"
      ],
      "text/plain": [
       "                       salary  to_messages  deferral_payments  total_payments  \\\n",
       "FREVERT MARK A      1060932.0       3275.0          6426990.0      17252530.0   \n",
       "LAY KENNETH L       1072321.0       4273.0           202911.0     103559793.0   \n",
       "SKILLING JEFFREY K  1111258.0       3627.0                NaN       8682716.0   \n",
       "\n",
       "                    exercised_stock_options      bonus  restricted_stock  \\\n",
       "FREVERT MARK A                   10433518.0  2000000.0         4188667.0   \n",
       "LAY KENNETH L                    34348384.0  7000000.0        14761694.0   \n",
       "SKILLING JEFFREY K               19250000.0  5600000.0         6843672.0   \n",
       "\n",
       "                    shared_receipt_with_poi  restricted_stock_deferred  \\\n",
       "FREVERT MARK A                       2979.0                        NaN   \n",
       "LAY KENNETH L                        2411.0                        NaN   \n",
       "SKILLING JEFFREY K                   2042.0                        NaN   \n",
       "\n",
       "                    total_stock_value           ...            loan_advances  \\\n",
       "FREVERT MARK A             14622185.0           ...                2000000.0   \n",
       "LAY KENNETH L              49110078.0           ...               81525000.0   \n",
       "SKILLING JEFFREY K         26093672.0           ...                      NaN   \n",
       "\n",
       "                    from_messages       other  from_this_person_to_poi  poi  \\\n",
       "FREVERT MARK A               21.0   7427621.0                      6.0  0.0   \n",
       "LAY KENNETH L                36.0  10359729.0                     16.0  1.0   \n",
       "SKILLING JEFFREY K          108.0     22122.0                     30.0  1.0   \n",
       "\n",
       "                    director_fees  deferred_income  long_term_incentive  \\\n",
       "FREVERT MARK A                NaN       -3367011.0            1617011.0   \n",
       "LAY KENNETH L                 NaN        -300000.0            3600000.0   \n",
       "SKILLING JEFFREY K            NaN              NaN            1920000.0   \n",
       "\n",
       "                              email_address from_poi_to_this_person  \n",
       "FREVERT MARK A       mark.frevert@enron.com                   242.0  \n",
       "LAY KENNETH L         kenneth.lay@enron.com                   123.0  \n",
       "SKILLING JEFFREY K  jeff.skilling@enron.com                    88.0  \n",
       "\n",
       "[3 rows x 21 columns]"
      ]
     },
     "execution_count": 264,
     "metadata": {},
     "output_type": "execute_result"
    }
   ],
   "source": [
    "# Let's check some high salaries.\n",
    "df[df['salary'] > 800000]"
   ]
  },
  {
   "cell_type": "markdown",
   "metadata": {},
   "source": [
    "The results seems reasonable: Lay Kenneth is the CEO of Enron, Frevert Mark is the CEO of Enron wholesale services, Skilling Jeffrey is former CEO of Enron. Let's continue to check other compensation data. "
   ]
  },
  {
   "cell_type": "code",
   "execution_count": 265,
   "metadata": {
    "collapsed": false
   },
   "outputs": [
    {
     "data": {
      "text/plain": [
       "array([[<matplotlib.axes._subplots.AxesSubplot object at 0x120dc0b10>,\n",
       "        <matplotlib.axes._subplots.AxesSubplot object at 0x11f7f4a50>,\n",
       "        <matplotlib.axes._subplots.AxesSubplot object at 0x11c722190>],\n",
       "       [<matplotlib.axes._subplots.AxesSubplot object at 0x120fb26d0>,\n",
       "        <matplotlib.axes._subplots.AxesSubplot object at 0x11c2e9a90>,\n",
       "        <matplotlib.axes._subplots.AxesSubplot object at 0x120bcc6d0>],\n",
       "       [<matplotlib.axes._subplots.AxesSubplot object at 0x11f1d6c50>,\n",
       "        <matplotlib.axes._subplots.AxesSubplot object at 0x12134fe50>,\n",
       "        <matplotlib.axes._subplots.AxesSubplot object at 0x11bc4c990>],\n",
       "       [<matplotlib.axes._subplots.AxesSubplot object at 0x122680c50>,\n",
       "        <matplotlib.axes._subplots.AxesSubplot object at 0x12286a4d0>,\n",
       "        <matplotlib.axes._subplots.AxesSubplot object at 0x121751550>]], dtype=object)"
      ]
     },
     "execution_count": 265,
     "metadata": {},
     "output_type": "execute_result"
    },
    {
     "data": {
      "image/png": "[encoded data removed]",
      "text/plain": [
       "<matplotlib.figure.Figure at 0x11c237050>"
      ]
     },
     "metadata": {},
     "output_type": "display_data"
    }
   ],
   "source": [
    "df[['deferral_payments', 'total_payments',\n",
    "      'exercised_stock_options', 'bonus', 'restricted_stock',\n",
    "      'total_stock_value', 'expenses', 'loan_advances',\n",
    "      'director_fees', 'deferred_income', 'long_term_incentive']].hist(figsize=(20, 15))"
   ]
  },
  {
   "cell_type": "code",
   "execution_count": 266,
   "metadata": {
    "collapsed": false
   },
   "outputs": [
    {
     "data": {
      "text/html": [
       "<div>\n",
       "<table border=\"1\" class=\"dataframe\">\n",
       "  <thead>\n",
       "    <tr style=\"text-align: right;\">\n",
       "      <th></th>\n",
       "      <th>salary</th>\n",
       "      <th>to_messages</th>\n",
       "      <th>deferral_payments</th>\n",
       "      <th>total_payments</th>\n",
       "      <th>exercised_stock_options</th>\n",
       "      <th>bonus</th>\n",
       "      <th>restricted_stock</th>\n",
       "      <th>shared_receipt_with_poi</th>\n",
       "      <th>restricted_stock_deferred</th>\n",
       "      <th>total_stock_value</th>\n",
       "      <th>...</th>\n",
       "      <th>loan_advances</th>\n",
       "      <th>from_messages</th>\n",
       "      <th>other</th>\n",
       "      <th>from_this_person_to_poi</th>\n",
       "      <th>poi</th>\n",
       "      <th>director_fees</th>\n",
       "      <th>deferred_income</th>\n",
       "      <th>long_term_incentive</th>\n",
       "      <th>email_address</th>\n",
       "      <th>from_poi_to_this_person</th>\n",
       "    </tr>\n",
       "  </thead>\n",
       "  <tbody>\n",
       "    <tr>\n",
       "      <th>LAY KENNETH L</th>\n",
       "      <td>1072321.0</td>\n",
       "      <td>4273.0</td>\n",
       "      <td>202911.0</td>\n",
       "      <td>103559793.0</td>\n",
       "      <td>34348384.0</td>\n",
       "      <td>7000000.0</td>\n",
       "      <td>14761694.0</td>\n",
       "      <td>2411.0</td>\n",
       "      <td>NaN</td>\n",
       "      <td>49110078.0</td>\n",
       "      <td>...</td>\n",
       "      <td>81525000.0</td>\n",
       "      <td>36.0</td>\n",
       "      <td>10359729.0</td>\n",
       "      <td>16.0</td>\n",
       "      <td>1.0</td>\n",
       "      <td>NaN</td>\n",
       "      <td>-300000.0</td>\n",
       "      <td>3600000.0</td>\n",
       "      <td>kenneth.lay@enron.com</td>\n",
       "      <td>123.0</td>\n",
       "    </tr>\n",
       "  </tbody>\n",
       "</table>\n",
       "<p>1 rows × 21 columns</p>\n",
       "</div>"
      ],
      "text/plain": [
       "                  salary  to_messages  deferral_payments  total_payments  \\\n",
       "LAY KENNETH L  1072321.0       4273.0           202911.0     103559793.0   \n",
       "\n",
       "               exercised_stock_options      bonus  restricted_stock  \\\n",
       "LAY KENNETH L               34348384.0  7000000.0        14761694.0   \n",
       "\n",
       "               shared_receipt_with_poi  restricted_stock_deferred  \\\n",
       "LAY KENNETH L                   2411.0                        NaN   \n",
       "\n",
       "               total_stock_value           ...            loan_advances  \\\n",
       "LAY KENNETH L         49110078.0           ...               81525000.0   \n",
       "\n",
       "               from_messages       other  from_this_person_to_poi  poi  \\\n",
       "LAY KENNETH L           36.0  10359729.0                     16.0  1.0   \n",
       "\n",
       "               director_fees  deferred_income  long_term_incentive  \\\n",
       "LAY KENNETH L            NaN        -300000.0            3600000.0   \n",
       "\n",
       "                       email_address from_poi_to_this_person  \n",
       "LAY KENNETH L  kenneth.lay@enron.com                   123.0  \n",
       "\n",
       "[1 rows x 21 columns]"
      ]
     },
     "execution_count": 266,
     "metadata": {},
     "output_type": "execute_result"
    }
   ],
   "source": [
    "# Let's double check data with high total payments\n",
    "\n",
    "df[df['total_payments'] > 80000000]"
   ]
  },
  {
   "cell_type": "markdown",
   "metadata": {},
   "source": [
    "CEO Kenneth Lay got high payment seems reasonable. Continue with email data."
   ]
  },
  {
   "cell_type": "code",
   "execution_count": 267,
   "metadata": {
    "collapsed": false
   },
   "outputs": [
    {
     "data": {
      "text/plain": [
       "array([[<matplotlib.axes._subplots.AxesSubplot object at 0x111282290>,\n",
       "        <matplotlib.axes._subplots.AxesSubplot object at 0x12297e490>],\n",
       "       [<matplotlib.axes._subplots.AxesSubplot object at 0x110edb750>,\n",
       "        <matplotlib.axes._subplots.AxesSubplot object at 0x11fbee590>],\n",
       "       [<matplotlib.axes._subplots.AxesSubplot object at 0x1221d2610>,\n",
       "        <matplotlib.axes._subplots.AxesSubplot object at 0x11c6a23d0>]], dtype=object)"
      ]
     },
     "execution_count": 267,
     "metadata": {},
     "output_type": "execute_result"
    },
    {
     "data": {
      "image/png": "[encoded data removed]",
      "text/plain": [
       "<matplotlib.figure.Figure at 0x11c7d8410>"
      ]
     },
     "metadata": {},
     "output_type": "display_data"
    }
   ],
   "source": [
    "df[['to_messages', 'shared_receipt_with_poi', 'from_messages',\n",
    "      'from_this_person_to_poi', 'from_poi_to_this_person']].hist(figsize=(20, 15))"
   ]
  },
  {
   "cell_type": "markdown",
   "metadata": {},
   "source": [
    "Now there seems to be no outlier. Continue with feature selection."
   ]
  },
  {
   "cell_type": "markdown",
   "metadata": {},
   "source": [
    "## Task 3: Create new feature(s)"
   ]
  },
  {
   "cell_type": "code",
   "execution_count": 270,
   "metadata": {
    "collapsed": false
   },
   "outputs": [
    {
     "name": "stdout",
     "output_type": "stream",
     "text": [
      "19 55 145\n"
     ]
    }
   ],
   "source": [
    "# My first thought is to build TFIDF matrix. However, it turns out the email data is very incomplete. \n",
    "# We only have 19 people's email out of the 145 people given.\n",
    "#\n",
    "# There are two sets of email data provided:\n",
    "# \n",
    "# 1. Email folder. For each person, if we have their email, there will be a folder named \n",
    "#    LastName-FirstLetterOfFirstName. For example:\n",
    "#    maildir/\n",
    "#      allen-p\n",
    "#        inbox/\n",
    "#        send/\n",
    "#\n",
    "# 2. Email index file: For each person, we might have a file named \n",
    "\n",
    "\n",
    "def name_to_folder_name(last_first_middle):\n",
    "    parts = last_first_middle.split(' ')\n",
    "    if len(parts) < 2:\n",
    "        return ''\n",
    "    return '-'.join([parts[0].lower(), parts[1][0].lower()])\n",
    "\n",
    "def name_to_file_name(last_first_middle):\n",
    "    parts = last_first_middle.split(' ')\n",
    "    if len(parts) < 2:\n",
    "        return ''\n",
    "    return parts[1].lower() + '.' + parts[0].lower() + '@enron.com.txt'\n",
    "\n",
    "\n",
    "name_count = 0\n",
    "folder_count = 0\n",
    "file_count = 0\n",
    "for name in df.index.values:\n",
    "    if os.path.isdir('../maildir/' + name_to_folder_name(name)):\n",
    "        folder_count = folder_count + 1\n",
    "    file_name_suffix = name_to_file_name(name)\n",
    "    if os.path.exists('emails_by_address/' + 'from_' + file_name_suffix) or os.path.exists('emails_by_address/' + 'to_' + file_name_suffix):\n",
    "        file_count = file_count + 1\n",
    "    name_count = name_count + 1\n",
    "    \n",
    "print folder_count, file_count, name_count"
   ]
  },
  {
   "cell_type": "code",
   "execution_count": 271,
   "metadata": {
    "collapsed": true
   },
   "outputs": [],
   "source": [
    "## My second thought is to scale the number of poi related emails by total number of emails.\n",
    "\n",
    "df['ratio_of_poi_related_email'] = (df['from_poi_to_this_person'] + df['from_this_person_to_poi'])/(df['to_messages'] + df['from_messages'])\n",
    "\n",
    "# Also add to feature_list.\n",
    "if 'ratio_of_poi_related_email' not in features_list:\n",
    "    features_list.append('ratio_of_poi_related_email')"
   ]
  },
  {
   "cell_type": "markdown",
   "metadata": {},
   "source": [
    "## Task 4: Try a varity of classifiers"
   ]
  },
  {
   "cell_type": "code",
   "execution_count": 272,
   "metadata": {
    "collapsed": false
   },
   "outputs": [],
   "source": [
    "### Task 4: Try a varity of classifiers\n",
    "### Please name your classifier clf for easy export below.\n",
    "### Note that if you want to do PCA or other multi-stage operations,\n",
    "### you'll need to use Pipelines. For more info:\n",
    "### http://scikit-learn.org/stable/modules/pipeline.html\n",
    "\n",
    "import tester\n",
    "\n",
    "### Store to my_dataset for easy export below.\n",
    "my_dataset = df.fillna(0).to_dict(orient='index')"
   ]
  },
  {
   "cell_type": "code",
   "execution_count": 9,
   "metadata": {
    "collapsed": false,
    "scrolled": false
   },
   "outputs": [
    {
     "name": "stdout",
     "output_type": "stream",
     "text": [
      "GaussianNB()\n",
      "\tAccuracy: 0.31167\tPrecision: 0.14175\tRecall: 0.82350\tF1: 0.24187\tF2: 0.41975\n",
      "\tTotal predictions: 15000\tTrue positives: 1647\tFalse positives: 9972\tFalse negatives:  353\tTrue negatives: 3028\n",
      "\n"
     ]
    }
   ],
   "source": [
    "from sklearn import naive_bayes\n",
    "clf = naive_bayes.GaussianNB()\n",
    "tester.test_classifier(clf, my_dataset, features_list)"
   ]
  },
  {
   "cell_type": "code",
   "execution_count": 274,
   "metadata": {
    "collapsed": false
   },
   "outputs": [
    {
     "name": "stdout",
     "output_type": "stream",
     "text": [
      "DecisionTreeClassifier(class_weight=None, criterion='gini', max_depth=None,\n",
      "            max_features=None, max_leaf_nodes=None, min_samples_leaf=1,\n",
      "            min_samples_split=2, min_weight_fraction_leaf=0.0,\n",
      "            presort=False, random_state=None, splitter='best')\n",
      "\tAccuracy: 0.80580\tPrecision: 0.28021\tRecall: 0.29100\tF1: 0.28550\tF2: 0.28878\n",
      "\tTotal predictions: 15000\tTrue positives:  582\tFalse positives: 1495\tFalse negatives: 1418\tTrue negatives: 11505\n",
      "\n"
     ]
    }
   ],
   "source": [
    "from sklearn import tree\n",
    "clf = tree.DecisionTreeClassifier()\n",
    "tester.test_classifier(clf, my_dataset, features_list)"
   ]
  },
  {
   "cell_type": "code",
   "execution_count": 275,
   "metadata": {
    "collapsed": false
   },
   "outputs": [
    {
     "name": "stdout",
     "output_type": "stream",
     "text": [
      "RandomForestClassifier(bootstrap=True, class_weight=None, criterion='gini',\n",
      "            max_depth=None, max_features='auto', max_leaf_nodes=None,\n",
      "            min_samples_leaf=1, min_samples_split=2,\n",
      "            min_weight_fraction_leaf=0.0, n_estimators=10, n_jobs=1,\n",
      "            oob_score=False, random_state=None, verbose=0,\n",
      "            warm_start=False)\n",
      "\tAccuracy: 0.85793\tPrecision: 0.39065\tRecall: 0.11700\tF1: 0.18007\tF2: 0.13606\n",
      "\tTotal predictions: 15000\tTrue positives:  234\tFalse positives:  365\tFalse negatives: 1766\tTrue negatives: 12635\n",
      "\n"
     ]
    }
   ],
   "source": [
    "from sklearn import ensemble\n",
    "clf = ensemble.RandomForestClassifier()\n",
    "tester.test_classifier(clf, my_dataset, features_list)"
   ]
  },
  {
   "cell_type": "code",
   "execution_count": 276,
   "metadata": {
    "collapsed": false
   },
   "outputs": [
    {
     "name": "stdout",
     "output_type": "stream",
     "text": [
      "RandomForestClassifier(bootstrap=True, class_weight=None, criterion='entropy',\n",
      "            max_depth=None, max_features='auto', max_leaf_nodes=None,\n",
      "            min_samples_leaf=1, min_samples_split=2,\n",
      "            min_weight_fraction_leaf=0.0, n_estimators=10, n_jobs=1,\n",
      "            oob_score=False, random_state=None, verbose=0,\n",
      "            warm_start=False)\n",
      "\tAccuracy: 0.85973\tPrecision: 0.40114\tRecall: 0.10550\tF1: 0.16706\tF2: 0.12374\n",
      "\tTotal predictions: 15000\tTrue positives:  211\tFalse positives:  315\tFalse negatives: 1789\tTrue negatives: 12685\n",
      "\n"
     ]
    }
   ],
   "source": [
    "from sklearn import ensemble\n",
    "clf = ensemble.RandomForestClassifier(criterion='entropy')\n",
    "tester.test_classifier(clf, my_dataset, features_list)"
   ]
  },
  {
   "cell_type": "code",
   "execution_count": 279,
   "metadata": {
    "collapsed": false
   },
   "outputs": [
    {
     "name": "stdout",
     "output_type": "stream",
     "text": [
      "RandomForestClassifier(bootstrap=True, class_weight=None, criterion='gini',\n",
      "            max_depth=None, max_features='auto', max_leaf_nodes=None,\n",
      "            min_samples_leaf=1, min_samples_split=20,\n",
      "            min_weight_fraction_leaf=0.0, n_estimators=10, n_jobs=1,\n",
      "            oob_score=False, random_state=None, verbose=0,\n",
      "            warm_start=False)\n",
      "\tAccuracy: 0.86200\tPrecision: 0.42944\tRecall: 0.10650\tF1: 0.17067\tF2: 0.12535\n",
      "\tTotal predictions: 15000\tTrue positives:  213\tFalse positives:  283\tFalse negatives: 1787\tTrue negatives: 12717\n",
      "\n"
     ]
    }
   ],
   "source": [
    "from sklearn import ensemble\n",
    "clf = ensemble.RandomForestClassifier(min_samples_split=20)\n",
    "tester.test_classifier(clf, my_dataset, features_list)"
   ]
  },
  {
   "cell_type": "code",
   "execution_count": 289,
   "metadata": {
    "collapsed": false
   },
   "outputs": [
    {
     "name": "stdout",
     "output_type": "stream",
     "text": [
      "Pipeline(steps=[('reduce_dim', RandomizedPCA(copy=True, iterated_power=3, n_components=5, random_state=None,\n",
      "       whiten=False)), ('rf', RandomForestClassifier(bootstrap=True, class_weight=None, criterion='gini',\n",
      "            max_depth=None, max_features='auto', max_leaf_nodes=None,\n",
      "            min_samples_leaf=1, min_samples_split=20,\n",
      "            min_weight_fraction_leaf=0.0, n_estimators=10, n_jobs=1,\n",
      "            oob_score=False, random_state=None, verbose=0,\n",
      "            warm_start=False))])\n",
      "\tAccuracy: 0.86060\tPrecision: 0.43396\tRecall: 0.14950\tF1: 0.22239\tF2: 0.17206\n",
      "\tTotal predictions: 15000\tTrue positives:  299\tFalse positives:  390\tFalse negatives: 1701\tTrue negatives: 12610\n",
      "\n"
     ]
    }
   ],
   "source": [
    "from sklearn.pipeline import Pipeline\n",
    "from sklearn import ensemble\n",
    "from sklearn.decomposition import RandomizedPCA\n",
    "estimators = [('reduce_dim', RandomizedPCA(n_components=5)), ('rf', ensemble.RandomForestClassifier(min_samples_split=20))]\n",
    "clf = Pipeline(estimators)\n",
    "tester.test_classifier(clf, my_dataset, features_list)"
   ]
  },
  {
   "cell_type": "code",
   "execution_count": 290,
   "metadata": {
    "collapsed": false
   },
   "outputs": [
    {
     "name": "stdout",
     "output_type": "stream",
     "text": [
      "Pipeline(steps=[('reduce_dim', RandomizedPCA(copy=True, iterated_power=3, n_components=5, random_state=None,\n",
      "       whiten=False)), ('rf', AdaBoostClassifier(algorithm='SAMME.R', base_estimator=None,\n",
      "          learning_rate=1.0, n_estimators=50, random_state=None))])\n",
      "\tAccuracy: 0.82400\tPrecision: 0.28495\tRecall: 0.21200\tF1: 0.24312\tF2: 0.22344\n",
      "\tTotal predictions: 15000\tTrue positives:  424\tFalse positives: 1064\tFalse negatives: 1576\tTrue negatives: 11936\n",
      "\n"
     ]
    }
   ],
   "source": [
    "from sklearn.pipeline import Pipeline\n",
    "from sklearn import ensemble\n",
    "from sklearn.decomposition import RandomizedPCA\n",
    "estimators = [('reduce_dim', RandomizedPCA(n_components=5)), ('rf', ensemble.AdaBoostClassifier())]\n",
    "clf = Pipeline(estimators)\n",
    "tester.test_classifier(clf, my_dataset, features_list)"
   ]
  },
  {
   "cell_type": "code",
   "execution_count": 293,
   "metadata": {
    "collapsed": false
   },
   "outputs": [
    {
     "name": "stdout",
     "output_type": "stream",
     "text": [
      "AdaBoostClassifier(algorithm='SAMME.R', base_estimator=None,\n",
      "          learning_rate=2.0, n_estimators=50, random_state=None)\n",
      "\tAccuracy: 0.77753\tPrecision: 0.24953\tRecall: 0.33300\tF1: 0.28529\tF2: 0.31212\n",
      "\tTotal predictions: 15000\tTrue positives:  666\tFalse positives: 2003\tFalse negatives: 1334\tTrue negatives: 10997\n",
      "\n"
     ]
    }
   ],
   "source": [
    "from sklearn import ensemble\n",
    "clf = ensemble.AdaBoostClassifier(algorithm='SAMME.R', base_estimator=None,\n",
    "                                  learning_rate=2.0, n_estimators=50, random_state=None)\n",
    "tester.test_classifier(clf, my_dataset, features_list)"
   ]
  },
  {
   "cell_type": "markdown",
   "metadata": {},
   "source": [
    "## Task 5: Tune classifier"
   ]
  },
  {
   "cell_type": "code",
   "execution_count": 295,
   "metadata": {
    "collapsed": false
   },
   "outputs": [
    {
     "name": "stdout",
     "output_type": "stream",
     "text": [
      "AdaBoostClassifier(algorithm='SAMME.R', base_estimator=None,\n",
      "          learning_rate=1.0, n_estimators=50, random_state=None)\n",
      "\tAccuracy: 0.83933\tPrecision: 0.37025\tRecall: 0.29250\tF1: 0.32682\tF2: 0.30532\n",
      "\tTotal predictions: 15000\tTrue positives:  585\tFalse positives:  995\tFalse negatives: 1415\tTrue negatives: 12005\n",
      "\n"
     ]
    }
   ],
   "source": [
    "### Task 5: Tune your classifier to achieve better than .3 precision and recall \n",
    "### using our testing script. Check the tester.py script in the final project\n",
    "### folder for details on the evaluation method, especially the test_classifier\n",
    "### function. Because of the small size of the dataset, the script uses\n",
    "### stratified shuffle split cross validation. For more info: \n",
    "### http://scikit-learn.org/stable/modules/generated/sklearn.cross_validation.StratifiedShuffleSplit.html\n",
    "\n",
    "from sklearn import ensemble\n",
    "clf = ensemble.AdaBoostClassifier(n_estimators=50)\n",
    "tester.test_classifier(clf, my_dataset, features_list)"
   ]
  },
  {
   "cell_type": "code",
   "execution_count": 296,
   "metadata": {
    "collapsed": false
   },
   "outputs": [
    {
     "name": "stdout",
     "output_type": "stream",
     "text": [
      "AdaBoostClassifier(algorithm='SAMME.R', base_estimator=None,\n",
      "          learning_rate=1.0, n_estimators=100, random_state=None)\n",
      "\tAccuracy: 0.84233\tPrecision: 0.38172\tRecall: 0.29450\tF1: 0.33249\tF2: 0.30860\n",
      "\tTotal predictions: 15000\tTrue positives:  589\tFalse positives:  954\tFalse negatives: 1411\tTrue negatives: 12046\n",
      "\n"
     ]
    }
   ],
   "source": [
    "from sklearn import ensemble\n",
    "clf = ensemble.AdaBoostClassifier(n_estimators=100)\n",
    "tester.test_classifier(clf, my_dataset, features_list)"
   ]
  },
  {
   "cell_type": "code",
   "execution_count": 297,
   "metadata": {
    "collapsed": false
   },
   "outputs": [
    {
     "name": "stdout",
     "output_type": "stream",
     "text": [
      "AdaBoostClassifier(algorithm='SAMME.R', base_estimator=None,\n",
      "          learning_rate=1.0, n_estimators=200, random_state=None)\n",
      "\tAccuracy: 0.84220\tPrecision: 0.37840\tRecall: 0.28550\tF1: 0.32545\tF2: 0.30024\n",
      "\tTotal predictions: 15000\tTrue positives:  571\tFalse positives:  938\tFalse negatives: 1429\tTrue negatives: 12062\n",
      "\n"
     ]
    }
   ],
   "source": [
    "from sklearn import ensemble\n",
    "clf = ensemble.AdaBoostClassifier(n_estimators=200)\n",
    "tester.test_classifier(clf, my_dataset, features_list)"
   ]
  },
  {
   "cell_type": "code",
   "execution_count": 299,
   "metadata": {
    "collapsed": false
   },
   "outputs": [
    {
     "name": "stdout",
     "output_type": "stream",
     "text": [
      "AdaBoostClassifier(algorithm='SAMME.R', base_estimator=None,\n",
      "          learning_rate=1.0, n_estimators=75, random_state=None)\n",
      "\tAccuracy: 0.84367\tPrecision: 0.38949\tRecall: 0.30400\tF1: 0.34148\tF2: 0.31796\n",
      "\tTotal predictions: 15000\tTrue positives:  608\tFalse positives:  953\tFalse negatives: 1392\tTrue negatives: 12047\n",
      "\n"
     ]
    }
   ],
   "source": [
    "from sklearn import ensemble\n",
    "clf = ensemble.AdaBoostClassifier(n_estimators=75)\n",
    "tester.test_classifier(clf, my_dataset, features_list)"
   ]
  },
  {
   "cell_type": "markdown",
   "metadata": {},
   "source": [
    "__So n_estimators = 75 will give us a result with precision 0.39 and recall 0.30.__"
   ]
  },
  {
   "cell_type": "markdown",
   "metadata": {},
   "source": [
    "## Task 6: Dump classifier, dataset and feature_list"
   ]
  },
  {
   "cell_type": "code",
   "execution_count": 301,
   "metadata": {
    "collapsed": false
   },
   "outputs": [],
   "source": [
    "### Task 6: Dump your classifier, dataset, and features_list so anyone can\n",
    "### check your results. You do not need to change anything below, but make sure\n",
    "### that the version of poi_id.py that you submit can be run on its own and\n",
    "### generates the necessary .pkl files for validating your results.\n",
    "\n",
    "from tester import dump_classifier_and_data\n",
    "\n",
    "dump_classifier_and_data(clf, my_dataset, features_list)"
   ]
  }
 ],
 "metadata": {
  "kernelspec": {
   "display_name": "Python 2",
   "language": "python",
   "name": "python2"
  },
  "language_info": {
   "codemirror_mode": {
    "name": "ipython",
    "version": 2
   },
   "file_extension": ".py",
   "mimetype": "text/x-python",
   "name": "python",
   "nbconvert_exporter": "python",
   "pygments_lexer": "ipython2",
   "version": "2.7.11"
  }
 },
 "nbformat": 4,
 "nbformat_minor": 0
}
